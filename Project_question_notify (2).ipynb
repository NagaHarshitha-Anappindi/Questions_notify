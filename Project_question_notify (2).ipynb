{
 "cells": [
  {
   "cell_type": "code",
   "execution_count": 1,
   "id": "a2df3f49",
   "metadata": {},
   "outputs": [
    {
     "name": "stdout",
     "output_type": "stream",
     "text": [
      "Collecting plyerNote: you may need to restart the kernel to use updated packages.\n",
      "  Downloading plyer-2.1.0-py2.py3-none-any.whl (142 kB)\n",
      "Requirement already satisfied: requests in c:\\users\\kames\\anaconda3\\lib\\site-packages (2.27.1)\n",
      "Collecting schedule\n",
      "  Downloading schedule-1.2.2-py3-none-any.whl (12 kB)\n",
      "\n",
      "Requirement already satisfied: urllib3<1.27,>=1.21.1 in c:\\users\\kames\\anaconda3\\lib\\site-packages (from requests) (1.26.9)\n",
      "Requirement already satisfied: charset-normalizer~=2.0.0 in c:\\users\\kames\\anaconda3\\lib\\site-packages (from requests) (2.0.4)\n",
      "Requirement already satisfied: certifi>=2017.4.17 in c:\\users\\kames\\anaconda3\\lib\\site-packages (from requests) (2021.10.8)\n",
      "Requirement already satisfied: idna<4,>=2.5 in c:\\users\\kames\\anaconda3\\lib\\site-packages (from requests) (3.3)\n",
      "Installing collected packages: schedule, plyer\n",
      "Successfully installed plyer-2.1.0 schedule-1.2.2\n"
     ]
    }
   ],
   "source": [
    "pip install plyer requests schedule"
   ]
  },
  {
   "cell_type": "code",
   "execution_count": 1,
   "id": "6ef30902",
   "metadata": {},
   "outputs": [
    {
     "name": "stdout",
     "output_type": "stream",
     "text": [
      "Collecting PyPDF2\n",
      "  Downloading pypdf2-3.0.1-py3-none-any.whl (232 kB)\n",
      "Requirement already satisfied: plyer in c:\\users\\kames\\anaconda3\\lib\\site-packages (2.1.0)\n",
      "Requirement already satisfied: typing_extensions>=3.10.0.0 in c:\\users\\kames\\anaconda3\\lib\\site-packages (from PyPDF2) (4.1.1)\n",
      "Installing collected packages: PyPDF2\n",
      "Successfully installed PyPDF2-3.0.1\n",
      "Note: you may need to restart the kernel to use updated packages.\n"
     ]
    }
   ],
   "source": [
    "pip install PyPDF2 plyer"
   ]
  },
  {
   "cell_type": "code",
   "execution_count": 1,
   "id": "a9a7d8e2",
   "metadata": {},
   "outputs": [
    {
     "name": "stdout",
     "output_type": "stream",
     "text": [
      "Collecting python-docxNote: you may need to restart the kernel to use updated packages.\n",
      "\n",
      "  Downloading python_docx-1.1.2-py3-none-any.whl (244 kB)\n",
      "Collecting typing-extensions>=4.9.0\n",
      "  Using cached typing_extensions-4.12.2-py3-none-any.whl (37 kB)\n",
      "Requirement already satisfied: lxml>=3.1.0 in c:\\users\\kames\\anaconda3\\lib\\site-packages (from python-docx) (4.8.0)\n",
      "Installing collected packages: typing-extensions, python-docx\n",
      "  Attempting uninstall: typing-extensions\n",
      "    Found existing installation: typing-extensions 4.1.1\n",
      "    Uninstalling typing-extensions-4.1.1:\n",
      "      Successfully uninstalled typing-extensions-4.1.1\n",
      "Successfully installed python-docx-1.1.2 typing-extensions-4.12.2\n"
     ]
    }
   ],
   "source": [
    "pip install python-docx"
   ]
  },
  {
   "cell_type": "code",
   "execution_count": null,
   "id": "25cfa84d",
   "metadata": {},
   "outputs": [
    {
     "name": "stdout",
     "output_type": "stream",
     "text": [
      "Enter the path to the Word file: C:\\Users\\kames\\Downloads\\Question.docx\n",
      "Notification service started. Press Ctrl+C to exit.\n"
     ]
    }
   ],
   "source": [
    "import docx\n",
    "import random\n",
    "import time\n",
    "import schedule\n",
    "import tkinter as tk\n",
    "from tkinter import messagebox\n",
    "\n",
    "# Global variable to store questions\n",
    "questions = []\n",
    "\n",
    "def extract_questions_from_docx(file_path):\n",
    "    global questions\n",
    "    doc = docx.Document(file_path)\n",
    "    \n",
    "    question_data = {}\n",
    "    for para in doc.paragraphs:\n",
    "        line = para.text.strip()\n",
    "        if not line:  # Skip empty lines\n",
    "            continue\n",
    "        \n",
    "        if line.startswith(\"Answer:\"):\n",
    "            # Extract correct answer\n",
    "            correct_answer = line.split(': ')[1].strip().lower()  # Get answer option (e.g., 'a')\n",
    "            question_data['correct_answer'] = correct_answer\n",
    "            \n",
    "            # Ensure all keys are present before appending\n",
    "            if 'question' in question_data and 'options' in question_data:\n",
    "                questions.append(question_data)  # Add question data to list\n",
    "            \n",
    "            question_data = {}  # Reset for next question\n",
    "        \n",
    "        # Check for options like 'a)', 'b)', etc.\n",
    "        elif len(line) > 0 and (line[0].isalpha() and ')' in line):  \n",
    "            if 'options' not in question_data:\n",
    "                question_data['options'] = []  # Initialize options list\n",
    "            \n",
    "            option_letter = line[0].lower()  # Get option letter (e.g., 'a')\n",
    "            option_text = line[3:]  # Get option text (after 'a) ')\n",
    "            question_data['options'].append(option_text)  # Add option text to list\n",
    "        \n",
    "        # Check for questions starting with a number followed by a dot (e.g., \"1. \")\n",
    "        elif len(line) > 0 and line[0].isdigit() and '.' in line:  \n",
    "            if 'question' not in question_data:\n",
    "                question_data['question'] = line  # First line with number is the question\n",
    "\n",
    "def show_notification():\n",
    "    if not questions:\n",
    "        print(\"No questions available.\")\n",
    "        return\n",
    "    \n",
    "    question_data = random.choice(questions)\n",
    "    \n",
    "    if 'question' not in question_data or 'options' not in question_data or 'correct_answer' not in question_data:\n",
    "        return\n",
    "    \n",
    "    question = question_data['question']\n",
    "    correct_answer_index = ord(question_data['correct_answer']) - ord('a')  # Convert letter to index (0-3)\n",
    "    correct_answer_text = question_data['options'][correct_answer_index]  # Get correct answer text\n",
    "    options = question_data['options']\n",
    "    \n",
    "    # Create the main window for the notification\n",
    "    root = tk.Tk()\n",
    "    root.title(\"Programing  Questions\")\n",
    "    \n",
    "    # Create a label for the question\n",
    "    label = tk.Label(root, text=question, padx=100, pady=100)\n",
    "    label.pack()\n",
    "\n",
    "    # Function to handle user answer selection\n",
    "    def submit_answer(selected_option):\n",
    "        if selected_option == correct_answer_text:  # Compare with correct answer text\n",
    "            messagebox.showinfo(\"Result\", \"Correct! 🎉\")\n",
    "        else:\n",
    "            messagebox.showinfo(\"Result\", f\"Incorrect! The correct answer is: {correct_answer_text}.\")\n",
    "        root.destroy()  # Close the window after answering\n",
    "    \n",
    "    # Shuffle options for randomness\n",
    "    random.shuffle(options)\n",
    "\n",
    "    # Create buttons for each option\n",
    "    for option in options:\n",
    "        option_button = tk.Button(root, text=option, command=lambda opt=option: submit_answer(opt))\n",
    "        option_button.pack(pady=5)\n",
    "\n",
    "    skip_button = tk.Button(root, text=\"Skip Question\", command=lambda: [root.destroy()])\n",
    "    skip_button.pack(pady=5)\n",
    "\n",
    "    # Start the GUI loop\n",
    "    root.mainloop()\n",
    "\n",
    "# Function to run every 2 minutes\n",
    "def job():\n",
    "    if not questions:\n",
    "        print(\"No questions loaded. Please load the questions from a Word document.\")\n",
    "        return\n",
    "    \n",
    "    show_notification()\n",
    "\n",
    "if __name__ == \"__main__\":\n",
    "    pdf_file_path = input(\"Enter the path to the Word file: \").strip()\n",
    "    \n",
    "    extract_questions_from_docx(pdf_file_path)\n",
    "    \n",
    "    # Schedule the job every 2 minutes\n",
    "    schedule.every(2).minutes.do(job)\n",
    "\n",
    "    print(\"Notification service started. Press Ctrl+C to exit.\")\n",
    "\n",
    "    # Keep the script running\n",
    "    while True:\n",
    "        schedule.run_pending()\n",
    "        time.sleep(1)"
   ]
  },
  {
   "cell_type": "code",
   "execution_count": null,
   "id": "93f95c91",
   "metadata": {},
   "outputs": [],
   "source": []
  }
 ],
 "metadata": {
  "kernelspec": {
   "display_name": "Python 3 (ipykernel)",
   "language": "python",
   "name": "python3"
  },
  "language_info": {
   "codemirror_mode": {
    "name": "ipython",
    "version": 3
   },
   "file_extension": ".py",
   "mimetype": "text/x-python",
   "name": "python",
   "nbconvert_exporter": "python",
   "pygments_lexer": "ipython3",
   "version": "3.9.12"
  }
 },
 "nbformat": 4,
 "nbformat_minor": 5
}
